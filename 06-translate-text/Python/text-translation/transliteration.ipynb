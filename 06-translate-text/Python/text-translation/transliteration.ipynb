{
 "cells": [
  {
   "cell_type": "code",
   "execution_count": 1,
   "metadata": {},
   "outputs": [],
   "source": [
    "from dotenv import load_dotenv\n",
    "import os\n",
    "import requests, json"
   ]
  },
  {
   "cell_type": "code",
   "execution_count": 2,
   "metadata": {},
   "outputs": [],
   "source": [
    "load_dotenv()\n",
    "cog_key = os.getenv('COG_SERVICE_KEY')\n",
    "cog_region = os.getenv('COG_SERVICE_REGION')\n",
    "translator_endpoint = 'https://api.cognitive.microsofttranslator.com'"
   ]
  },
  {
   "cell_type": "code",
   "execution_count": 3,
   "metadata": {},
   "outputs": [],
   "source": [
    "def GetTransliterate(text, fromScript, toScript):\n",
    "\n",
    "    # Use the Translator detect function\n",
    "    path = '/transliterate'\n",
    "    url = translator_endpoint + path\n",
    "\n",
    "    # Build the request\n",
    "    params = {\n",
    "        'api-version': '3.0',\n",
    "        'language': 'ko',\n",
    "        'fromScript': fromScript,\n",
    "        'toScript': toScript\n",
    "    }\n",
    "\n",
    "    headers = {\n",
    "    'Ocp-Apim-Subscription-Key': cog_key,\n",
    "    'Ocp-Apim-Subscription-Region': cog_region,\n",
    "    'Content-type': 'application/json'\n",
    "    }\n",
    "\n",
    "    body = [{\n",
    "        'Text': text\n",
    "    }]\n",
    "\n",
    "    # Send the request and get response\n",
    "    request = requests.post(url, params=params, headers=headers, json=body)\n",
    "    response = request.json()\n",
    "\n",
    "    # Parse JSON array and get language\n",
    "    language = response\n",
    "\n",
    "    # Return the language\n",
    "    return language"
   ]
  },
  {
   "cell_type": "code",
   "execution_count": 7,
   "metadata": {},
   "outputs": [
    {
     "data": {
      "text/plain": [
       "[{'text': 'annyeonghaseyo', 'script': 'Latn'}]"
      ]
     },
     "execution_count": 7,
     "metadata": {},
     "output_type": "execute_result"
    }
   ],
   "source": [
    "GetTransliterate(\"안녕하세요\", \"Kore\", \"Latn\")"
   ]
  },
  {
   "cell_type": "code",
   "execution_count": 8,
   "metadata": {},
   "outputs": [
    {
     "data": {
      "text/plain": [
       "[{'text': '웰컴 투 마이크로소프트 트레이닝', 'script': ''}]"
      ]
     },
     "execution_count": 8,
     "metadata": {},
     "output_type": "execute_result"
    }
   ],
   "source": [
    "GetTransliterate(\"Welcome to Microsoft Training\", \"Latn\", \"Kore\")"
   ]
  },
  {
   "cell_type": "code",
   "execution_count": 9,
   "metadata": {},
   "outputs": [
    {
     "data": {
      "text/plain": [
       "[{'text': 'mikerowesoft gyoyuge oisín geoseul hwanyeonghapnida.',\n",
       "  'script': 'Latn'}]"
      ]
     },
     "execution_count": 9,
     "metadata": {},
     "output_type": "execute_result"
    }
   ],
   "source": [
    "GetTransliterate(\"마이크로소프트 교육에 오신 것을 환영합니다.\", \"Kore\", \"Latn\")"
   ]
  }
 ],
 "metadata": {
  "kernelspec": {
   "display_name": "Python 3",
   "language": "python",
   "name": "python3"
  },
  "language_info": {
   "codemirror_mode": {
    "name": "ipython",
    "version": 3
   },
   "file_extension": ".py",
   "mimetype": "text/x-python",
   "name": "python",
   "nbconvert_exporter": "python",
   "pygments_lexer": "ipython3",
   "version": "3.10.3"
  },
  "orig_nbformat": 4
 },
 "nbformat": 4,
 "nbformat_minor": 2
}
